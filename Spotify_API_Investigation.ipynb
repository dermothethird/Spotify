{
 "cells": [
  {
   "cell_type": "markdown",
   "metadata": {},
   "source": [
    "# Spotify API Investigation\n",
    "\n",
    "**Author:** Dermot O'Brien\n",
    "***"
   ]
  },
  {
   "cell_type": "markdown",
   "metadata": {},
   "source": [
    "## Data Understanding"
   ]
  },
  {
   "cell_type": "code",
   "execution_count": 1,
   "metadata": {},
   "outputs": [],
   "source": [
    "# Import standard packages\n",
    "import pandas as pd\n",
    "import numpy as np\n",
    "import matplotlib.pyplot as plt\n",
    "import seaborn as sns\n",
    "import spotipy\n",
    "from spotipy.oauth2 import SpotifyClientCredentials\n",
    "import base64\n",
    "import requests\n",
    "import datetime\n",
    "\n",
    "%matplotlib inline"
   ]
  },
  {
   "cell_type": "code",
   "execution_count": 2,
   "metadata": {},
   "outputs": [],
   "source": [
    "# Create variables for client id and client secret to create token\n",
    "cid = 'fe9b61dd4aea4998a73a7e7f095bb66a'\n",
    "secret = '8544bf1566dd4f3c8b5f80f032d9617e'"
   ]
  },
  {
   "cell_type": "code",
   "execution_count": 21,
   "metadata": {},
   "outputs": [],
   "source": [
    "# Create a class for Spotify API\n",
    "class SpotifyAPI(object):\n",
    "    access_token = None\n",
    "    access_token_expires = datetime.datetime.now()\n",
    "    access_token_did_expire = True\n",
    "    cid = None\n",
    "    secret = None\n",
    "    token_url = 'https://accounts.spotify.com/api/token'\n",
    "    \n",
    "    def __init__(self, cid, secret, *args, **kwargs):\n",
    "        self.cid = cid\n",
    "        self.secret = secret\n",
    "        \n",
    "    def get_client_credentials(self):\n",
    "        cid = self.cid\n",
    "        secret = self.secret\n",
    "        if cid == None or secret == None:\n",
    "            raise Exception(\"You must set client id and client secret\")\n",
    "        client_creds = f\"{cid}:{secret}\"\n",
    "        client_creds_b64 = base64.b64encode(client_creds.encode())\n",
    "        return client_creds_b64.decode()\n",
    "\n",
    "    def get_token_header(self):\n",
    "        client_creds_b64 = self.get_client_credentials()\n",
    "        return {'Authorization': f\"Basic {client_creds_b64}\"}\n",
    "    \n",
    "    def get_token_data(self):\n",
    "        return {'grant_type': 'client_credentials'}\n",
    "        \n",
    "    def perform_auth(self):\n",
    "        token_url = self.token_url\n",
    "        token_data = self.get_token_data()\n",
    "        token_header = self.get_token_header()\n",
    "        r = requests.post(token_url, data=token_data, headers=token_header)\n",
    "        if r.status_code not in range (200, 299):\n",
    "            return False\n",
    "        data = r.json()\n",
    "        access_token = data['access_token']\n",
    "        now = datetime.datetime.now()\n",
    "        expires_in = data['expires_in']\n",
    "        expires = now + datetime.timedelta(seconds=expires_in)\n",
    "        self.access_token = access_token\n",
    "        self.access_token_expires = expires\n",
    "        self.access_token_did_expire = expires < now\n",
    "        return True"
   ]
  },
  {
   "cell_type": "code",
   "execution_count": 22,
   "metadata": {},
   "outputs": [],
   "source": [
    "client = SpotifyAPI(cid, secret)"
   ]
  },
  {
   "cell_type": "code",
   "execution_count": 23,
   "metadata": {
    "scrolled": true
   },
   "outputs": [
    {
     "data": {
      "text/plain": [
       "True"
      ]
     },
     "execution_count": 23,
     "metadata": {},
     "output_type": "execute_result"
    }
   ],
   "source": [
    "client.perform_auth()"
   ]
  },
  {
   "cell_type": "code",
   "execution_count": 25,
   "metadata": {},
   "outputs": [],
   "source": [
    "access_token = client.access_token"
   ]
  }
 ],
 "metadata": {
  "kernelspec": {
   "display_name": "streamlit_capstone",
   "language": "python",
   "name": "streamlit_capstone"
  },
  "language_info": {
   "codemirror_mode": {
    "name": "ipython",
    "version": 3
   },
   "file_extension": ".py",
   "mimetype": "text/x-python",
   "name": "python",
   "nbconvert_exporter": "python",
   "pygments_lexer": "ipython3",
   "version": "3.10.8"
  }
 },
 "nbformat": 4,
 "nbformat_minor": 4
}
